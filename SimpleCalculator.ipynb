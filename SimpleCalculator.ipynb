{
 "cells": [
  {
   "cell_type": "code",
   "execution_count": 1,
   "metadata": {},
   "outputs": [
    {
     "name": "stdout",
     "output_type": "stream",
     "text": [
      "Select the operation you want :-\n",
      " 1- Addition\n",
      " 2- Subtraction\n",
      " 3- Multiplication\n",
      " 4- Division\n",
      "Select your option ['1', '2', '3', '4']\n",
      "0\n",
      "Your choice is invalid try again\n"
     ]
    }
   ],
   "source": [
    "# Creating a simple calculator\n",
    "\n",
    "# These are the options need to be select by the user\n",
    "print (\"Select the operation you want :-\")\n",
    "print (\" 1- Addition\")\n",
    "print (\" 2- Subtraction\")\n",
    "print (\" 3- Multiplication\")\n",
    "print (\" 4- Division\")\n",
    "\n",
    "# Addition Function\n",
    "def Addition (num1, num2):\n",
    "    return num1 + num2\n",
    "\n",
    "# Subtraction Function\n",
    "def Subtraction (num1, num2):\n",
    "    return num1 - num2\n",
    "\n",
    "# Multiplication Function\n",
    "def Multiplication (num1, num2):\n",
    "    return num1 * num2\n",
    "\n",
    "# Division Function\n",
    "def Division (num1, num2):\n",
    "    return num1 / num2\n",
    "\n",
    "# User input\n",
    "List = \"1 2 3 4\"\n",
    "print(\"Select your option\",List.split(' '))\n",
    "User_choice = input()\n",
    "\n",
    "if User_choice in (\"1\",\"2\",\"3\",\"4\") :\n",
    "    # The two numbers to do the operation on\n",
    "    Number1 = int ( input (\"Enter your first number: \"))\n",
    "    Number2 = int ( input (\"Enter your second number: \"))\n",
    "else: \n",
    "     print(\"Your choice is invalid try again\")\n",
    "\n",
    "# If statements for the choices\n",
    "\n",
    "if User_choice == \"1\":\n",
    "    print(Number1,\" + \",Number2,\" = \", Addition(Number1,Number2))\n",
    "    \n",
    "elif User_choice == \"2\":\n",
    "    print(Number1,\" - \",Number2,\" = \", Subtraction(Number1,Number2))\n",
    "\n",
    "elif User_choice == \"3\":\n",
    "    print(Number1,\" * \",Number2,\" = \", Multiplication(Number1,Number2))\n",
    "\n",
    "elif User_choice == \"4\":\n",
    "    print(Number1,\" / \",Number2,\" = \", Division(Number1,Number2))\n",
    "   \n"
   ]
  },
  {
   "cell_type": "code",
   "execution_count": null,
   "metadata": {},
   "outputs": [],
   "source": []
  }
 ],
 "metadata": {
  "kernelspec": {
   "display_name": "Python 3",
   "language": "python",
   "name": "python3"
  },
  "language_info": {
   "codemirror_mode": {
    "name": "ipython",
    "version": 3
   },
   "file_extension": ".py",
   "mimetype": "text/x-python",
   "name": "python",
   "nbconvert_exporter": "python",
   "pygments_lexer": "ipython3",
   "version": "3.7.3"
  }
 },
 "nbformat": 4,
 "nbformat_minor": 2
}
